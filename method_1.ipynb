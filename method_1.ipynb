{
 "cells": [
  {
   "cell_type": "code",
   "execution_count": 1,
   "id": "04fc7cb4-8800-41d5-8642-aa3c3650e211",
   "metadata": {},
   "outputs": [],
   "source": [
    "import pandas as pd\n",
    "import numpy as np"
   ]
  },
  {
   "cell_type": "code",
   "execution_count": null,
   "id": "e74e7aed-3d1a-4edb-a406-adefd6c1c9ff",
   "metadata": {},
   "outputs": [],
   "source": [
    "def download_data(self):\n",
    "        # Download the data file if it is not already in the directory\n",
    "        if not os.path.exists(os.path.join('downloads', self.filename)): \n",
    "            response = requests.get(self.url)\n",
    "            if response.status_code == 200:\n",
    "                with open(os.path.join('downloads', self.filename), 'wb') as f:\n",
    "                    f.write(response.content)\n",
    "                print(f'{self.filename} has been downloaded')\n",
    "            else:\n",
    "                print(f'Error downloading {self.filename}: {response.status_code}')\n",
    "        else: \n",
    "            print(f'{self.filename} already exists')\n",
    "        \n",
    "        # Read the data file into a DataFrame\n",
    "        data_path = os.path.join('downloads', self.filename)\n",
    "        df = pd.read_csv(data_path, on_bad_lines='skip')\n",
    "        \n",
    "        return df"
   ]
  }
 ],
 "metadata": {
  "kernelspec": {
   "display_name": "Python 3 (ipykernel)",
   "language": "python",
   "name": "python3"
  },
  "language_info": {
   "codemirror_mode": {
    "name": "ipython",
    "version": 3
   },
   "file_extension": ".py",
   "mimetype": "text/x-python",
   "name": "python",
   "nbconvert_exporter": "python",
   "pygments_lexer": "ipython3",
   "version": "3.9.12"
  }
 },
 "nbformat": 4,
 "nbformat_minor": 5
}
