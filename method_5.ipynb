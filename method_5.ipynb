{
 "cells": [
  {
   "cell_type": "code",
   "execution_count": 146,
   "id": "c417fdbf-a1c6-46fd-bab1-22463b507864",
   "metadata": {},
   "outputs": [],
   "source": [
    "def compare_output_countries(self, df, countries):\n",
    "    \"\"\"\n",
    "    Plots a comparison of the total of the '_output_' column for each of the given countries.\n",
    "    \n",
    "    Parameters:\n",
    "    ----------\n",
    "    df : pandas dataframe\n",
    "        dataframe of the dataset\n",
    "    country : str or list\n",
    "        country names to compare\n",
    "\n",
    "    Returns\n",
    "    -------\n",
    "    line graph of total '_output_' columns of given countries over the years\n",
    "    \"\"\"\n",
    "    # Create total output column\n",
    "    output_cols = [col for col in self.df.columns if '_output_' in col]\n",
    "    df['total_output'] = self.df[output_cols].sum(axis=1)\n",
    "    \n",
    "    # Transform input to list\n",
    "    if not isinstance(countries, list):\n",
    "        countries = [countries]\n",
    "    \n",
    "    if len(countries) == 1:\n",
    "        if countries not in self.get_countries(df):\n",
    "            raise ValueError(f'{countries} is not a valid country name.')\n",
    "        else: \n",
    "            country_selected = self.df[df['Entity'].isin(countries)][['Entity', 'Year', 'total_output']]\n",
    "            plt.plot(country_selected['Year'], country_selected['total_output'], label=countries)\n",
    "    else:\n",
    "        for i in countries:\n",
    "            if i not in self.get_countries(df):\n",
    "                raise ValueError(f'{i} is not a valid country name.')\n",
    "            else:\n",
    "                country_selected = self.df[df['Entity'].isin([i])][['Entity', 'Year', 'total_output']]\n",
    "                plt.plot(country_selected['Year'], country_selected['total_output'], label=i)\n",
    "    \n",
    "    plt.title('Comparison of Output Totals for selected Countries')\n",
    "    plt.xlabel('Year')\n",
    "    plt.ylabel('Total Output')\n",
    "    plt.legend()\n",
    "    plt.show()\n"
   ]
  },
  {
   "cell_type": "code",
   "execution_count": null,
   "id": "33d912f2-0f3a-43f1-b998-f130aab17221",
   "metadata": {},
   "outputs": [],
   "source": []
  }
 ],
 "metadata": {
  "kernelspec": {
   "display_name": "Python 3 (ipykernel)",
   "language": "python",
   "name": "python3"
  },
  "language_info": {
   "codemirror_mode": {
    "name": "ipython",
    "version": 3
   },
   "file_extension": ".py",
   "mimetype": "text/x-python",
   "name": "python",
   "nbconvert_exporter": "python",
   "pygments_lexer": "ipython3",
   "version": "3.9.12"
  }
 },
 "nbformat": 4,
 "nbformat_minor": 5
}
